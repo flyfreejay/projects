{
 "cells": [
  {
   "cell_type": "code",
   "execution_count": 25,
   "metadata": {},
   "outputs": [],
   "source": [
    "import re"
   ]
  },
  {
   "cell_type": "code",
   "execution_count": 13,
   "metadata": {},
   "outputs": [],
   "source": [
    "import os\n",
    "import random\n",
    "\n",
    "word_list = []\n",
    "\n",
    "with open(\"words.txt\") as words_txt:\n",
    "    words = (words_txt).read()\n",
    "    for word in words.split():\n",
    "        word_list.append(word)"
   ]
  },
  {
   "cell_type": "code",
   "execution_count": 125,
   "metadata": {},
   "outputs": [],
   "source": [
    "THE_WORD = random.choice(word_list)     #pick a random word from the list\n",
    "LIFE = 5                                #choose the number of lives you want to have\n",
    "\n"
   ]
  },
  {
   "cell_type": "code",
   "execution_count": 126,
   "metadata": {},
   "outputs": [
    {
     "data": {
      "text/plain": [
       "'_ _ _ _ _ _ _'"
      ]
     },
     "execution_count": 126,
     "metadata": {},
     "output_type": "execute_result"
    }
   ],
   "source": [
    "displayed_state = []\n",
    "for i in range(len(THE_WORD)):\n",
    "    displayed_state.append('_')\n",
    "\" \".join(displayed_state)"
   ]
  },
  {
   "cell_type": "code",
   "execution_count": 127,
   "metadata": {},
   "outputs": [
    {
     "name": "stdout",
     "output_type": "stream",
     "text": [
      "['_', '_', '_', '_', '_', '_', '_']\n",
      "extends\n"
     ]
    }
   ],
   "source": [
    "print(displayed_state)\n",
    "print(THE_WORD)"
   ]
  },
  {
   "cell_type": "code",
   "execution_count": 96,
   "metadata": {},
   "outputs": [],
   "source": [
    "def GetGuess():\n",
    "    global guess\n",
    "    guess = input(\"Enter a character that you think is in the word: \")\n",
    "    if len(guess) !=1 or not guess.isalpha():\n",
    "        print(\"\\nInvalid input!\")\n",
    "        GetGuess()\n",
    "    guess = guess.lower()"
   ]
  },
  {
   "cell_type": "code",
   "execution_count": 97,
   "metadata": {},
   "outputs": [
    {
     "name": "stdout",
     "output_type": "stream",
     "text": [
      "Enter a character that you think is in the word: 214\n",
      "\n",
      "Invalid input!\n",
      "Enter a character that you think is in the word: 135\n",
      "\n",
      "Invalid input!\n",
      "Enter a character that you think is in the word: asdf\n",
      "\n",
      "Invalid input!\n",
      "Enter a character that you think is in the word: xb\n",
      "\n",
      "Invalid input!\n",
      "Enter a character that you think is in the word: s\n"
     ]
    }
   ],
   "source": [
    "GetGuess()"
   ]
  },
  {
   "cell_type": "code",
   "execution_count": 57,
   "metadata": {},
   "outputs": [
    {
     "name": "stdout",
     "output_type": "stream",
     "text": [
      "a\n"
     ]
    }
   ],
   "source": [
    "print(guess)"
   ]
  },
  {
   "cell_type": "code",
   "execution_count": 117,
   "metadata": {},
   "outputs": [],
   "source": [
    "def DisplayState():\n",
    "    print(\"You have {} lives left!\\n\".format(LIFE))\n",
    "    print(\" \".join(displayed_state))"
   ]
  },
  {
   "cell_type": "code",
   "execution_count": 118,
   "metadata": {},
   "outputs": [
    {
     "name": "stdout",
     "output_type": "stream",
     "text": [
      "You have 5 lives left!\n",
      "\n",
      "g _ _ _ _\n"
     ]
    }
   ],
   "source": [
    "DisplayState()"
   ]
  },
  {
   "cell_type": "code",
   "execution_count": 111,
   "metadata": {},
   "outputs": [],
   "source": [
    "def UpdateState(correct_guess):\n",
    "    indexes = [a for a,b in enumerate(THE_WORD) if b == correct_guess]\n",
    "    \n",
    "    for i in indexes:\n",
    "        displayed_state[i] = correct_guess"
   ]
  },
  {
   "cell_type": "code",
   "execution_count": 128,
   "metadata": {},
   "outputs": [],
   "source": [
    "UpdateState('e')"
   ]
  },
  {
   "cell_type": "code",
   "execution_count": 129,
   "metadata": {},
   "outputs": [
    {
     "name": "stdout",
     "output_type": "stream",
     "text": [
      "['e', '_', '_', 'e', '_', '_', '_']\n"
     ]
    }
   ],
   "source": [
    "print(displayed_state)\n"
   ]
  },
  {
   "cell_type": "code",
   "execution_count": null,
   "metadata": {},
   "outputs": [],
   "source": [
    "def GotItWrong():\n",
    "    print(\"Man! You got it wrong...\")\n",
    "    LIFE -= 1"
   ]
  },
  {
   "cell_type": "code",
   "execution_count": 133,
   "metadata": {},
   "outputs": [
    {
     "name": "stdout",
     "output_type": "stream",
     "text": [
      "You have 5 lives left!\n",
      "\n",
      "_ _ _ _ _ \n",
      "\n",
      "Enter a character that you think is in the word: a\n",
      "Rip, that is not in the word...\n",
      "\n",
      "You have 4 lives left!\n",
      "\n",
      "_ _ _ _ _ \n",
      "\n",
      "Enter a character that you think is in the word: s\n",
      "Rip, that is not in the word...\n",
      "\n",
      "You have 3 lives left!\n",
      "\n",
      "_ _ _ _ _ \n",
      "\n",
      "Enter a character that you think is in the word: g\n",
      "You have 3 lives left!\n",
      "\n",
      "_ _ _ g _ \n",
      "\n",
      "Enter a character that you think is in the word: i\n",
      "Rip, that is not in the word...\n",
      "\n",
      "You have 2 lives left!\n",
      "\n",
      "_ _ _ g _ \n",
      "\n",
      "Enter a character that you think is in the word: e\n",
      "Rip, that is not in the word...\n",
      "\n",
      "You have 1 lives left!\n",
      "\n",
      "_ _ _ g _ \n",
      "\n",
      "Enter a character that you think is in the word: y\n",
      "Rip, that is not in the word...\n",
      "\n",
      "You have 0 lives left!\n",
      "\n",
      "_ _ _ g _ \n",
      "\n",
      "Darn!! So close. Try again!\n",
      "\n",
      "The word was forgo\n"
     ]
    }
   ],
   "source": [
    "import os\n",
    "import random\n",
    "\n",
    "\n",
    "#the list to store all the words\n",
    "word_list = []\n",
    "\n",
    "with open(\"words.txt\") as words_txt:\n",
    "    words = (words_txt).read()\n",
    "    #read each word in the file and store them in the 'word_list' array\n",
    "    for word in words.split():\n",
    "        word_list.append(word)\n",
    "\n",
    "#--CONST--\n",
    "THE_WORD = random.choice(word_list)     #pick a random word from the list\n",
    "LIFE = 5                                #choose the number of lives you want to have\n",
    "\n",
    "#--VARIABLES--\n",
    "displayed_state = []\n",
    "for i in range(len(THE_WORD)):\n",
    "    displayed_state.append('_')\n",
    "\n",
    "gg = False                               #variable to see if the game is done or not\n",
    "\n",
    "#--FUNCTIONS--\n",
    "def GetGuess():\n",
    "    global guess\n",
    "    guess = input(\"Enter a character that you think is in the word: \")\n",
    "    if len(guess) !=1 or not guess.isalpha():\n",
    "        print(\"\\nInvalid input!\")\n",
    "        GetGuess()\n",
    "    guess = guess.lower()\n",
    "\n",
    "def DisplayState():\n",
    "    print(\"You have {} lives left!\\n\".format(LIFE))\n",
    "    print(\" \".join(displayed_state),'\\n')\n",
    "\n",
    "def UpdateState(correct_guess):\n",
    "    indexes = [a for a,b in enumerate(THE_WORD) if b == correct_guess]\n",
    "    for i in indexes:\n",
    "        displayed_state[i] = correct_guess\n",
    "\n",
    "if __name__ == '__main__':\n",
    "    DisplayState()\n",
    "    \n",
    "    while LIFE > 0 and (not gg):\n",
    "        GetGuess()\n",
    "        if guess in THE_WORD:\n",
    "            UpdateState(guess)\n",
    "        else:    \n",
    "            print(\"Rip, that is not in the word...\\n\")\n",
    "            LIFE -= 1\n",
    "        DisplayState()\n",
    "        \n",
    "        if not ('_' in displayed_state):\n",
    "            gg = True\n",
    "\n",
    "    if LIFE == 0:\n",
    "        print(\"Darn!! So close. Try again!\")\n",
    "    else:\n",
    "        print(\"Congratulations! You won!\")\n",
    "              \n",
    "    print(\"\\nThe word was {}\".format(THE_WORD))\n"
   ]
  }
 ],
 "metadata": {
  "kernelspec": {
   "display_name": "Python 3",
   "language": "python",
   "name": "python3"
  },
  "language_info": {
   "codemirror_mode": {
    "name": "ipython",
    "version": 3
   },
   "file_extension": ".py",
   "mimetype": "text/x-python",
   "name": "python",
   "nbconvert_exporter": "python",
   "pygments_lexer": "ipython3",
   "version": "3.7.3"
  }
 },
 "nbformat": 4,
 "nbformat_minor": 2
}
